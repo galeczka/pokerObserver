{
 "metadata": {
  "language_info": {
   "codemirror_mode": {
    "name": "ipython",
    "version": 3
   },
   "file_extension": ".py",
   "mimetype": "text/x-python",
   "name": "python",
   "nbconvert_exporter": "python",
   "pygments_lexer": "ipython3",
   "version": "3.8.6-final"
  },
  "orig_nbformat": 2,
  "kernelspec": {
   "name": "python3",
   "display_name": "Python 3.8.6 64-bit",
   "metadata": {
    "interpreter": {
     "hash": "f23faf4bfe871c203c8bec80520af5927fc7cb1ae3bd834ddf554ee587ad1c05"
    }
   }
  }
 },
 "nbformat": 4,
 "nbformat_minor": 2,
 "cells": [
  {
   "cell_type": "code",
   "execution_count": 4,
   "metadata": {},
   "outputs": [],
   "source": [
    "import win32gui\n",
    "import matplotlib.pyplot as plt\n",
    "import numpy as np\n",
    "import mss\n",
    "import time\n",
    "import cv2\n",
    "from imutils import grab_contours"
   ]
  },
  {
   "cell_type": "code",
   "execution_count": 112,
   "metadata": {},
   "outputs": [],
   "source": [
    "class Game:\n",
    "\n",
    "    def __init__(self):\n",
    "        self.hero_dealer = None\n",
    "        self.pot_np = None\n",
    "        self.hero_turn = None\n",
    "        self.round = None\n",
    "    \n",
    "    def set_window_title(self, name):\n",
    "        self.window_title = name\n",
    "\n",
    "    def get_params(self):\n",
    "        token_np = shot(\"hero_dealer\")\n",
    "        if token_np[0][0][0] > 200:\n",
    "            print(\"hero dealer\")\n",
    "            self.hero_dealer = True\n",
    "        else:\n",
    "            print(\"hero not delaer\")\n",
    "            self.hero_dealer = False\n",
    "        self.pot_np = shot(\"pot\")\n",
    "\n",
    "    def wait_for_hero_turn(self):\n",
    "        while(True):\n",
    "            time.sleep(1)\n",
    "            state_1 = shot(\"hero_turn\")\n",
    "            if state_1[0][0][0] > 200:\n",
    "                break    \n",
    "            #print(\"waitng for hero turn...\")\n",
    "\n",
    "    def check_pot_change(self):\n",
    "        POT_tmp = shot(\"pot\")\n",
    "        if not np.all(POT_tmp == self.pot_np):\n",
    "            self.pot_np = POT_tmp\n",
    "            return True\n",
    "        else: return False\n",
    "    \n",
    "    def get_pot_img(self):\n",
    "        return self.pot_np\n",
    "\n",
    "    def test_loop(self):\n",
    "        self.wait_for_hero_turn()\n",
    "        self.get_params()\n",
    "        i=0\n",
    "        while(i<40):\n",
    "            self.wait_for_hero_turn()\n",
    "            print(\"hero_turn\")\n",
    "            if self.check_pot_change():\n",
    "                print(\"\\tpot changed\")\n",
    "            else:\n",
    "                pass\n",
    "                print(\"\\tpot the same\")\n",
    "            i+=1\n",
    "            \n"
   ]
  },
  {
   "cell_type": "code",
   "execution_count": 113,
   "metadata": {},
   "outputs": [],
   "source": [
    "g1 = Game()"
   ]
  },
  {
   "cell_type": "code",
   "execution_count": 2,
   "metadata": {},
   "outputs": [],
   "source": [
    "def winEnumHandler( hwnd, ctx ):\n",
    "    global POKS_WINDOW\n",
    "    if win32gui.IsWindowVisible( hwnd ):\n",
    "        name = win32gui.GetWindowText( hwnd )\n",
    "        print (name)\n",
    "        if name.endswith('$'):\n",
    "            POKS_WINDOW = name\n",
    "            print(\"---found\")\n",
    "\n",
    "win32gui.EnumWindows( winEnumHandler, None )"
   ]
  },
  {
   "cell_type": "code",
   "execution_count": 118,
   "metadata": {},
   "outputs": [
    {
     "output_type": "stream",
     "name": "stdout",
     "text": [
      "hero not delaer\n",
      "waitng for hero turn...\n",
      "waitng for hero turn...\n",
      "waitng for hero turn...\n",
      "waitng for hero turn...\n",
      "waitng for hero turn...\n",
      "waitng for hero turn...\n",
      "waitng for hero turn...\n",
      "waitng for hero turn...\n",
      "hero_turn\n",
      "\tpot changed\n",
      "hero_turn\n",
      "\tpot the same\n",
      "hero_turn\n",
      "\tpot the same\n",
      "hero_turn\n",
      "\tpot the same\n",
      "hero_turn\n",
      "\tpot the same\n",
      "hero_turn\n",
      "\tpot the same\n",
      "hero_turn\n",
      "\tpot the same\n",
      "hero_turn\n",
      "\tpot changed\n",
      "hero_turn\n",
      "\tpot the same\n",
      "hero_turn\n",
      "\tpot the same\n",
      "hero_turn\n",
      "\tpot the same\n",
      "hero_turn\n",
      "\tpot the same\n",
      "hero_turn\n",
      "\tpot the same\n",
      "hero_turn\n",
      "\tpot the same\n",
      "hero_turn\n",
      "\tpot the same\n",
      "hero_turn\n",
      "\tpot the same\n",
      "hero_turn\n",
      "\tpot the same\n",
      "hero_turn\n",
      "\tpot the same\n",
      "hero_turn\n",
      "\tpot the same\n",
      "waitng for hero turn...\n",
      "waitng for hero turn...\n",
      "hero_turn\n",
      "\tpot changed\n",
      "hero_turn\n",
      "\tpot the same\n",
      "hero_turn\n",
      "\tpot the same\n",
      "hero_turn\n",
      "\tpot the same\n",
      "hero_turn\n",
      "\tpot the same\n",
      "hero_turn\n",
      "\tpot the same\n",
      "waitng for hero turn...\n",
      "hero_turn\n",
      "\tpot changed\n",
      "hero_turn\n",
      "\tpot the same\n",
      "hero_turn\n",
      "\tpot the same\n",
      "waitng for hero turn...\n",
      "waitng for hero turn...\n",
      "hero_turn\n",
      "\tpot the same\n",
      "hero_turn\n",
      "\tpot the same\n",
      "hero_turn\n",
      "\tpot the same\n",
      "hero_turn\n",
      "\tpot the same\n",
      "hero_turn\n",
      "\tpot the same\n",
      "hero_turn\n",
      "\tpot the same\n",
      "hero_turn\n",
      "\tpot the same\n",
      "hero_turn\n",
      "\tpot the same\n",
      "hero_turn\n",
      "\tpot the same\n",
      "hero_turn\n",
      "\tpot the same\n",
      "hero_turn\n",
      "\tpot the same\n",
      "waitng for hero turn...\n",
      "waitng for hero turn...\n",
      "waitng for hero turn...\n",
      "waitng for hero turn...\n",
      "waitng for hero turn...\n",
      "waitng for hero turn...\n",
      "hero_turn\n",
      "\tpot changed\n"
     ]
    }
   ],
   "source": [
    "g1.test_loop() # test activity on live game"
   ]
  },
  {
   "cell_type": "code",
   "execution_count": 8,
   "metadata": {},
   "outputs": [],
   "source": [
    "LOC = [[180,197,300,530]]"
   ]
  },
  {
   "cell_type": "code",
   "execution_count": 17,
   "metadata": {},
   "outputs": [],
   "source": [
    "LOC_t = [510, 700]\n",
    "LOC_d = [363, 491]"
   ]
  },
  {
   "cell_type": "code",
   "execution_count": 9,
   "metadata": {},
   "outputs": [],
   "source": [
    "# take screenshot only of specific area\n",
    "def shot(location=None):\n",
    "    window_title = \"*new 6 - Notepad++\"#\n",
    "    if window_title:\n",
    "        hwnd = win32gui.FindWindow(None, window_title)\n",
    "        if hwnd:\n",
    "            #win32gui.SetForegroundWindow(hwnd)\n",
    "            x_b, y_b, x1, y1 = win32gui.GetWindowRect(hwnd)\n",
    "            #print(x_b,y_b,x1,y1)\n",
    "            if location == \"pot\":\n",
    "                x, y = x_b+LOC[0][2], y_b+LOC[0][0]\n",
    "                x1, y1 =  x_b+LOC[0][3], y_b+LOC[0][1]\n",
    "            if location == \"hero_dealer\":\n",
    "                x, y = x_b+LOC_d[1], y_b+LOC_d[0]\n",
    "                x1, y1 =  x+1, y+1\n",
    "            if location == \"hero_turn\":\n",
    "                x, y = x_b+LOC_t[1], y_b+LOC_t[0]\n",
    "                x1, y1 =  x+1, y+1\n",
    "\n",
    "            #print(x,y,x1,y1)\n",
    "            region = {'top': y, 'left': x, 'width': x1-x, 'height': y1-y}\n",
    "\n",
    "            #print(region)\n",
    "            img = mss.mss().grab(region)\n",
    "            return np.array(img)\n",
    "        else:\n",
    "            print('Window not found!')"
   ]
  },
  {
   "cell_type": "code",
   "execution_count": 11,
   "metadata": {},
   "outputs": [],
   "source": [
    "np_pot = shot(\"pot\")"
   ]
  },
  {
   "cell_type": "code",
   "execution_count": 14,
   "metadata": {},
   "outputs": [
    {
     "output_type": "execute_result",
     "data": {
      "text/plain": [
       "(17, 230, 4)"
      ]
     },
     "metadata": {},
     "execution_count": 14
    }
   ],
   "source": [
    "np_pot.shape"
   ]
  },
  {
   "cell_type": "code",
   "execution_count": 15,
   "metadata": {},
   "outputs": [
    {
     "output_type": "execute_result",
     "data": {
      "text/plain": [
       "30"
      ]
     },
     "metadata": {},
     "execution_count": 15
    }
   ],
   "source": [
    "np_pot[0][0][0]"
   ]
  },
  {
   "cell_type": "code",
   "execution_count": 120,
   "metadata": {},
   "outputs": [
    {
     "output_type": "execute_result",
     "data": {
      "text/plain": [
       "<matplotlib.image.AxesImage at 0x1caaab28790>"
      ]
     },
     "metadata": {},
     "execution_count": 120
    },
    {
     "output_type": "display_data",
     "data": {
      "text/plain": "<Figure size 432x288 with 1 Axes>",
      "image/svg+xml": "<?xml version=\"1.0\" encoding=\"utf-8\" standalone=\"no\"?>\r\n<!DOCTYPE svg PUBLIC \"-//W3C//DTD SVG 1.1//EN\"\r\n  \"http://www.w3.org/Graphics/SVG/1.1/DTD/svg11.dtd\">\r\n<!-- Created with matplotlib (https://matplotlib.org/) -->\r\n<svg height=\"55.9843pt\" version=\"1.1\" viewBox=\"0 0 368.925 55.9843\" width=\"368.925pt\" xmlns=\"http://www.w3.org/2000/svg\" xmlns:xlink=\"http://www.w3.org/1999/xlink\">\r\n <metadata>\r\n  <rdf:RDF xmlns:cc=\"http://creativecommons.org/ns#\" xmlns:dc=\"http://purl.org/dc/elements/1.1/\" xmlns:rdf=\"http://www.w3.org/1999/02/22-rdf-syntax-ns#\">\r\n   <cc:Work>\r\n    <dc:type rdf:resource=\"http://purl.org/dc/dcmitype/StillImage\"/>\r\n    <dc:date>2020-11-03T13:10:40.145788</dc:date>\r\n    <dc:format>image/svg+xml</dc:format>\r\n    <dc:creator>\r\n     <cc:Agent>\r\n      <dc:title>Matplotlib v3.3.2, https://matplotlib.org/</dc:title>\r\n     </cc:Agent>\r\n    </dc:creator>\r\n   </cc:Work>\r\n  </rdf:RDF>\r\n </metadata>\r\n <defs>\r\n  <style type=\"text/css\">*{stroke-linecap:butt;stroke-linejoin:round;}</style>\r\n </defs>\r\n <g id=\"figure_1\">\r\n  <g id=\"patch_1\">\r\n   <path d=\"M -0 55.9843 \r\nL 368.925 55.9843 \r\nL 368.925 0 \r\nL -0 0 \r\nz\r\n\" style=\"fill:none;\"/>\r\n  </g>\r\n  <g id=\"axes_1\">\r\n   <g id=\"patch_2\">\r\n    <path d=\"M 26.925 32.106175 \r\nL 361.725 32.106175 \r\nL 361.725 10.271393 \r\nL 26.925 10.271393 \r\nz\r\n\" style=\"fill:#ffffff;\"/>\r\n   </g>\r\n   <g clip-path=\"url(#p4c6b944696)\">\r\n    <image height=\"22\" id=\"image95a2abbcc2\" transform=\"scale(1 -1)translate(0 -22)\" width=\"335\" x=\"26.925\" xlink:href=\"data:image/png;base64,\r\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\" y=\"-10.106175\"/>\r\n   </g>\r\n   <g id=\"matplotlib.axis_1\">\r\n    <g id=\"xtick_1\">\r\n     <g id=\"line2d_1\">\r\n      <defs>\r\n       <path d=\"M 0 0 \r\nL 0 3.5 \r\n\" id=\"m98b1a6f597\" style=\"stroke:#000000;stroke-width:0.8;\"/>\r\n      </defs>\r\n      <g>\r\n       <use style=\"stroke:#000000;stroke-width:0.8;\" x=\"27.652826\" xlink:href=\"#m98b1a6f597\" y=\"32.106175\"/>\r\n      </g>\r\n     </g>\r\n     <g id=\"text_1\">\r\n      <!-- 0 -->\r\n      <g transform=\"translate(24.471576 46.704613)scale(0.1 -0.1)\">\r\n       <defs>\r\n        <path d=\"M 31.78125 66.40625 \r\nQ 24.171875 66.40625 20.328125 58.90625 \r\nQ 16.5 51.421875 16.5 36.375 \r\nQ 16.5 21.390625 20.328125 13.890625 \r\nQ 24.171875 6.390625 31.78125 6.390625 \r\nQ 39.453125 6.390625 43.28125 13.890625 \r\nQ 47.125 21.390625 47.125 36.375 \r\nQ 47.125 51.421875 43.28125 58.90625 \r\nQ 39.453125 66.40625 31.78125 66.40625 \r\nz\r\nM 31.78125 74.21875 \r\nQ 44.046875 74.21875 50.515625 64.515625 \r\nQ 56.984375 54.828125 56.984375 36.375 \r\nQ 56.984375 17.96875 50.515625 8.265625 \r\nQ 44.046875 -1.421875 31.78125 -1.421875 \r\nQ 19.53125 -1.421875 13.0625 8.265625 \r\nQ 6.59375 17.96875 6.59375 36.375 \r\nQ 6.59375 54.828125 13.0625 64.515625 \r\nQ 19.53125 74.21875 31.78125 74.21875 \r\nz\r\n\" id=\"DejaVuSans-48\"/>\r\n       </defs>\r\n       <use xlink:href=\"#DejaVuSans-48\"/>\r\n      </g>\r\n     </g>\r\n    </g>\r\n    <g id=\"xtick_2\">\r\n     <g id=\"line2d_2\">\r\n      <g>\r\n       <use style=\"stroke:#000000;stroke-width:0.8;\" x=\"100.435435\" xlink:href=\"#m98b1a6f597\" y=\"32.106175\"/>\r\n      </g>\r\n     </g>\r\n     <g id=\"text_2\">\r\n      <!-- 50 -->\r\n      <g transform=\"translate(94.072935 46.704613)scale(0.1 -0.1)\">\r\n       <defs>\r\n        <path d=\"M 10.796875 72.90625 \r\nL 49.515625 72.90625 \r\nL 49.515625 64.59375 \r\nL 19.828125 64.59375 \r\nL 19.828125 46.734375 \r\nQ 21.96875 47.46875 24.109375 47.828125 \r\nQ 26.265625 48.1875 28.421875 48.1875 \r\nQ 40.625 48.1875 47.75 41.5 \r\nQ 54.890625 34.8125 54.890625 23.390625 \r\nQ 54.890625 11.625 47.5625 5.09375 \r\nQ 40.234375 -1.421875 26.90625 -1.421875 \r\nQ 22.3125 -1.421875 17.546875 -0.640625 \r\nQ 12.796875 0.140625 7.71875 1.703125 \r\nL 7.71875 11.625 \r\nQ 12.109375 9.234375 16.796875 8.0625 \r\nQ 21.484375 6.890625 26.703125 6.890625 \r\nQ 35.15625 6.890625 40.078125 11.328125 \r\nQ 45.015625 15.765625 45.015625 23.390625 \r\nQ 45.015625 31 40.078125 35.4375 \r\nQ 35.15625 39.890625 26.703125 39.890625 \r\nQ 22.75 39.890625 18.8125 39.015625 \r\nQ 14.890625 38.140625 10.796875 36.28125 \r\nz\r\n\" id=\"DejaVuSans-53\"/>\r\n       </defs>\r\n       <use xlink:href=\"#DejaVuSans-53\"/>\r\n       <use x=\"63.623047\" xlink:href=\"#DejaVuSans-48\"/>\r\n      </g>\r\n     </g>\r\n    </g>\r\n    <g id=\"xtick_3\">\r\n     <g id=\"line2d_3\">\r\n      <g>\r\n       <use style=\"stroke:#000000;stroke-width:0.8;\" x=\"173.218043\" xlink:href=\"#m98b1a6f597\" y=\"32.106175\"/>\r\n      </g>\r\n     </g>\r\n     <g id=\"text_3\">\r\n      <!-- 100 -->\r\n      <g transform=\"translate(163.674293 46.704613)scale(0.1 -0.1)\">\r\n       <defs>\r\n        <path d=\"M 12.40625 8.296875 \r\nL 28.515625 8.296875 \r\nL 28.515625 63.921875 \r\nL 10.984375 60.40625 \r\nL 10.984375 69.390625 \r\nL 28.421875 72.90625 \r\nL 38.28125 72.90625 \r\nL 38.28125 8.296875 \r\nL 54.390625 8.296875 \r\nL 54.390625 0 \r\nL 12.40625 0 \r\nz\r\n\" id=\"DejaVuSans-49\"/>\r\n       </defs>\r\n       <use xlink:href=\"#DejaVuSans-49\"/>\r\n       <use x=\"63.623047\" xlink:href=\"#DejaVuSans-48\"/>\r\n       <use x=\"127.246094\" xlink:href=\"#DejaVuSans-48\"/>\r\n      </g>\r\n     </g>\r\n    </g>\r\n    <g id=\"xtick_4\">\r\n     <g id=\"line2d_4\">\r\n      <g>\r\n       <use style=\"stroke:#000000;stroke-width:0.8;\" x=\"246.000652\" xlink:href=\"#m98b1a6f597\" y=\"32.106175\"/>\r\n      </g>\r\n     </g>\r\n     <g id=\"text_4\">\r\n      <!-- 150 -->\r\n      <g transform=\"translate(236.456902 46.704613)scale(0.1 -0.1)\">\r\n       <use xlink:href=\"#DejaVuSans-49\"/>\r\n       <use x=\"63.623047\" xlink:href=\"#DejaVuSans-53\"/>\r\n       <use x=\"127.246094\" xlink:href=\"#DejaVuSans-48\"/>\r\n      </g>\r\n     </g>\r\n    </g>\r\n    <g id=\"xtick_5\">\r\n     <g id=\"line2d_5\">\r\n      <g>\r\n       <use style=\"stroke:#000000;stroke-width:0.8;\" x=\"318.783261\" xlink:href=\"#m98b1a6f597\" y=\"32.106175\"/>\r\n      </g>\r\n     </g>\r\n     <g id=\"text_5\">\r\n      <!-- 200 -->\r\n      <g transform=\"translate(309.239511 46.704613)scale(0.1 -0.1)\">\r\n       <defs>\r\n        <path d=\"M 19.1875 8.296875 \r\nL 53.609375 8.296875 \r\nL 53.609375 0 \r\nL 7.328125 0 \r\nL 7.328125 8.296875 \r\nQ 12.9375 14.109375 22.625 23.890625 \r\nQ 32.328125 33.6875 34.8125 36.53125 \r\nQ 39.546875 41.84375 41.421875 45.53125 \r\nQ 43.3125 49.21875 43.3125 52.78125 \r\nQ 43.3125 58.59375 39.234375 62.25 \r\nQ 35.15625 65.921875 28.609375 65.921875 \r\nQ 23.96875 65.921875 18.8125 64.3125 \r\nQ 13.671875 62.703125 7.8125 59.421875 \r\nL 7.8125 69.390625 \r\nQ 13.765625 71.78125 18.9375 73 \r\nQ 24.125 74.21875 28.421875 74.21875 \r\nQ 39.75 74.21875 46.484375 68.546875 \r\nQ 53.21875 62.890625 53.21875 53.421875 \r\nQ 53.21875 48.921875 51.53125 44.890625 \r\nQ 49.859375 40.875 45.40625 35.40625 \r\nQ 44.1875 33.984375 37.640625 27.21875 \r\nQ 31.109375 20.453125 19.1875 8.296875 \r\nz\r\n\" id=\"DejaVuSans-50\"/>\r\n       </defs>\r\n       <use xlink:href=\"#DejaVuSans-50\"/>\r\n       <use x=\"63.623047\" xlink:href=\"#DejaVuSans-48\"/>\r\n       <use x=\"127.246094\" xlink:href=\"#DejaVuSans-48\"/>\r\n      </g>\r\n     </g>\r\n    </g>\r\n   </g>\r\n   <g id=\"matplotlib.axis_2\">\r\n    <g id=\"ytick_1\">\r\n     <g id=\"line2d_6\">\r\n      <defs>\r\n       <path d=\"M 0 0 \r\nL -3.5 0 \r\n\" id=\"m61c17e3611\" style=\"stroke:#000000;stroke-width:0.8;\"/>\r\n      </defs>\r\n      <g>\r\n       <use style=\"stroke:#000000;stroke-width:0.8;\" x=\"26.925\" xlink:href=\"#m61c17e3611\" y=\"10.999219\"/>\r\n      </g>\r\n     </g>\r\n     <g id=\"text_6\">\r\n      <!-- 0 -->\r\n      <g transform=\"translate(13.5625 14.798437)scale(0.1 -0.1)\">\r\n       <use xlink:href=\"#DejaVuSans-48\"/>\r\n      </g>\r\n     </g>\r\n    </g>\r\n    <g id=\"ytick_2\">\r\n     <g id=\"line2d_7\">\r\n      <g>\r\n       <use style=\"stroke:#000000;stroke-width:0.8;\" x=\"26.925\" xlink:href=\"#m61c17e3611\" y=\"25.55574\"/>\r\n      </g>\r\n     </g>\r\n     <g id=\"text_7\">\r\n      <!-- 10 -->\r\n      <g transform=\"translate(7.2 29.354959)scale(0.1 -0.1)\">\r\n       <use xlink:href=\"#DejaVuSans-49\"/>\r\n       <use x=\"63.623047\" xlink:href=\"#DejaVuSans-48\"/>\r\n      </g>\r\n     </g>\r\n    </g>\r\n   </g>\r\n   <g id=\"patch_3\">\r\n    <path d=\"M 26.925 32.106175 \r\nL 26.925 10.271393 \r\n\" style=\"fill:none;stroke:#000000;stroke-linecap:square;stroke-linejoin:miter;stroke-width:0.8;\"/>\r\n   </g>\r\n   <g id=\"patch_4\">\r\n    <path d=\"M 361.725 32.106175 \r\nL 361.725 10.271393 \r\n\" style=\"fill:none;stroke:#000000;stroke-linecap:square;stroke-linejoin:miter;stroke-width:0.8;\"/>\r\n   </g>\r\n   <g id=\"patch_5\">\r\n    <path d=\"M 26.925 32.106175 \r\nL 361.725 32.106175 \r\n\" style=\"fill:none;stroke:#000000;stroke-linecap:square;stroke-linejoin:miter;stroke-width:0.8;\"/>\r\n   </g>\r\n   <g id=\"patch_6\">\r\n    <path d=\"M 26.925 10.271393 \r\nL 361.725 10.271393 \r\n\" style=\"fill:none;stroke:#000000;stroke-linecap:square;stroke-linejoin:miter;stroke-width:0.8;\"/>\r\n   </g>\r\n  </g>\r\n </g>\r\n <defs>\r\n  <clipPath id=\"p4c6b944696\">\r\n   <rect height=\"21.834783\" width=\"334.8\" x=\"26.925\" y=\"10.271393\"/>\r\n  </clipPath>\r\n </defs>\r\n</svg>\r\n",
      "image/png": "[encoded data removed]"
     },
     "metadata": {
      "needs_background": "light"
     }
    }
   ],
   "source": [
    "plt.imshow(g1.get_pot_img())"
   ]
  }
 ]
}