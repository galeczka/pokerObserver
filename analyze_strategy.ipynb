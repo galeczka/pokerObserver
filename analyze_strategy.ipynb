{
 "metadata": {
  "language_info": {
   "codemirror_mode": {
    "name": "ipython",
    "version": 3
   },
   "file_extension": ".py",
   "mimetype": "text/x-python",
   "name": "python",
   "nbconvert_exporter": "python",
   "pygments_lexer": "ipython3",
   "version": "3.8.4-final"
  },
  "orig_nbformat": 2,
  "kernelspec": {
   "name": "Python 3.8.4 64-bit",
   "display_name": "Python 3.8.4 64-bit",
   "metadata": {
    "interpreter": {
     "hash": "02cd66532d9e32c91bc62f17de3c7fb925b8d2233657a05feb380bc328da6c7f"
    }
   }
  }
 },
 "nbformat": 4,
 "nbformat_minor": 2,
 "cells": [
  {
   "cell_type": "code",
   "execution_count": null,
   "metadata": {},
   "outputs": [],
   "source": [
    "# this is a draft implementaton, mostly presenting the idea\n",
    "\n",
    "def game_reset():\n",
    "    print(\"RESET\")"
   ]
  },
  {
   "cell_type": "code",
   "execution_count": null,
   "metadata": {},
   "outputs": [],
   "source": [
    "def notify(player=\"H\", move=\"check\"):\n",
    "    print(\"action: \", player, move)"
   ]
  },
  {
   "cell_type": "code",
   "execution_count": null,
   "metadata": {},
   "outputs": [],
   "source": [
    "def check_new_cards(round=\"preflop\"):\n",
    "    if round == \"preflop\":\n",
    "        state_1 = ss(card_1)\n",
    "        if state_1 == [\"white\"]\n",
    "            return True\n",
    "    elif round == \"flop\":\n",
    "        state_1 = ss(card_4)\n",
    "        if state_1 == [\"white\"]\n",
    "            return True\n",
    "        round = \"river\"\n",
    "    elif round == \"river\":\n",
    "        state_1 = ss(card_5)\n",
    "        if state_1 == [\"white\"]\n",
    "            return True\n",
    "        round = \"turn\"\n",
    "    return False"
   ]
  },
  {
   "cell_type": "code",
   "execution_count": null,
   "metadata": {},
   "outputs": [],
   "source": [
    "def next_round(round=\"preflop\"):\n",
    "    if round == \"preflop\":\n",
    "        # read 1,2,3 card\n",
    "        round = \"flop\"\n",
    "    elif round == \"flop\":\n",
    "        # read 4 card\n",
    "        round = \"river\"\n",
    "    elif round == \"river\":\n",
    "        # read 5 card\n",
    "        round = \"turn\"\n",
    "    elif round == \"turn\":\n",
    "        game_reset()"
   ]
  },
  {
   "cell_type": "code",
   "execution_count": null,
   "metadata": {},
   "outputs": [],
   "source": [
    "def check_fold():\n",
    "    state_1 = ss(fold)\n",
    "    if state_1 == [\"grey\"]\n",
    "        game_reset()"
   ]
  },
  {
   "cell_type": "code",
   "execution_count": null,
   "metadata": {},
   "outputs": [],
   "source": [
    "def wait_for_hero_turn():\n",
    "    while(True):\n",
    "        state_1 = ss(button)\n",
    "        if state_1 == [\"white\"]\n",
    "            return True\n",
    "        check_fold()\n",
    "        wait(\"SYNC\")"
   ]
  },
  {
   "cell_type": "code",
   "execution_count": null,
   "metadata": {},
   "outputs": [],
   "source": [
    "def check_pot_change():\n",
    "    state_1 = ss(pot)\n",
    "    if not np.all(POT_img_np == state_1):\n",
    "        POT_img_np = state_1\n",
    "        return True\n",
    "    return False"
   ]
  },
  {
   "cell_type": "code",
   "execution_count": null,
   "metadata": {},
   "outputs": [],
   "source": [
    "def read_pot(POT_img_np):\n",
    "    digits = extract_digits(POT_img_np)\n",
    "    # digits predict\n",
    "    return 1000"
   ]
  },
  {
   "cell_type": "code",
   "execution_count": null,
   "metadata": {},
   "outputs": [],
   "source": [
    "def get_params():\n",
    "    token_np = ss(hero_token)\n",
    "    if token_np == [\"red\"]:\n",
    "        HERO_DEALER = True\n",
    "    POT_img_np = ss(pot)\n"
   ]
  },
  {
   "cell_type": "code",
   "execution_count": null,
   "metadata": {},
   "outputs": [],
   "source": [
    "get_params() # loc (dealer, blind[read], karty[read])\n",
    "check_pot_change() # loc (pot)\n",
    "read_pot() # loc (pot[read])\n",
    "notify() # send message\n",
    "wait_for_hero_turn() # sync ss, loc(button), loc(fold)\n",
    "check_cards_folded() # loc(fold)\n",
    "next_round() # round++, cards[read]"
   ]
  },
  {
   "cell_type": "code",
   "execution_count": null,
   "metadata": {},
   "outputs": [],
   "source": [
    "# main game function, running from start of the game\n",
    "\n",
    "def preflopHeroDealer():\n",
    "    start_params = get_params()\n",
    "    round = \"preflop\"\n",
    "    turn = \"HERO\"\n",
    "    while(True):\n",
    "        if check_pot_change():\n",
    "            pot = read_pot()\n",
    "            if pot <= XXX:\n",
    "                notify(H, call_limp) #\n",
    "                wait_for_hero_turn()\n",
    "                if check_new_cards():\n",
    "                    notify(A, check_flop) #\n",
    "                    next_round()\n",
    "                else:\n",
    "                    pot = read_pot()\n",
    "                    notify(A, raised) #\n",
    "                    # hero may call\n",
    "            else if pot > XXX:\n",
    "                notify(H, bet) #\n",
    "                wait_for_hero_turn()\n",
    "                if check_new_cards():\n",
    "                    notify(A, call_flop) #\n",
    "                    next_round()\n",
    "                else:\n",
    "                    pot = read_pot()\n",
    "                    notify(A, raised) #\n",
    "                    # hero may call\n",
    "        else check_cards_folded():\n",
    "\n",
    "\n",
    "def hero_may_call():\n",
    "    while(True):\n",
    "        if check_pot_change():\n",
    "            pot = read_pot()\n",
    "            if pot <= XXX:\n",
    "                notify(H, call) #\n",
    "                next_round()\n",
    "            else if pot > XXX:\n",
    "                notify(H, raised) #\n",
    "                wait_for_hero_turn()\n",
    "                if check_new_cards():\n",
    "                    notify(A, call) #\n",
    "                    next_round()\n",
    "                else:\n",
    "                    notify(A, raised) #\n",
    "                    # hero may call\n",
    "        else check_cards_folded()\n"
   ]
  },
  {
   "cell_type": "code",
   "execution_count": null,
   "metadata": {},
   "outputs": [],
   "source": [
    "def preflopAdvDealer():\n",
    "    start_params = get_params()\n",
    "    turn = \"ADV\"\n",
    "    wait_for_hero_turn()\n",
    "    pot = read_pot()\n",
    "    if pot <= XXX:\n",
    "        notify(A, call_limp) # \n",
    "        while(True):\n",
    "            if check_new_cards():\n",
    "                notify(H, check_flop) #\n",
    "                next_round()\n",
    "            else if check_pot_change():\n",
    "                pot = read_pot()\n",
    "                notify(H, raised) #\n",
    "                # adv may call\n",
    "            else check_cards_folded()\n",
    "    else if pot > XXX:\n",
    "        notify(A, bet) #\n",
    "        while(True):\n",
    "        if chceck_new_cards():\n",
    "            notify(H, call_flop) #\n",
    "            next_round()\n",
    "        else if check_pot_change():\n",
    "            pot = read_pot()\n",
    "            notify(H, raised) #\n",
    "            # adv may call\n",
    "        else check_cards_folded()\n",
    "\n",
    "\n",
    "def adv_may_call():\n",
    "    wait_for_hero_turn()\n",
    "    if check_new_cards():\n",
    "        notify(A, call) #\n",
    "        next_round()\n",
    "    else:\n",
    "        notify(A, raised) #\n",
    "        # hero may call\n",
    "\n",
    "  "
   ]
  },
  {
   "cell_type": "code",
   "execution_count": null,
   "metadata": {},
   "outputs": [],
   "source": [
    "def flopHeroDealer():\n",
    "    turn = \"ADV\"\n",
    "    wait_for_hero_turn()\n",
    "    if check_pot_change():\n",
    "        pot = read_pot()\n",
    "        if pot <= XXX:\n",
    "            notify(A, check) #\n",
    "            while(True):\n",
    "                if check_new_cards():\n",
    "                    notify(H, check_river) #\n",
    "                    next_round()\n",
    "                if check_pot_change(): # bet change\n",
    "                    notify(H, bet)\n",
    "        else if pot > XXX:\n",
    "            notify(A, bet)\n",
    "            # hero may call\n",
    "\n"
   ]
  },
  {
   "cell_type": "code",
   "execution_count": null,
   "metadata": {},
   "outputs": [],
   "source": [
    "def flopAdvDealer():\n",
    "    turn = \"hero\"\n",
    "    while(True):\n",
    "        if check_pot_change():\n",
    "            pot = read_pot()\n",
    "            if pot <= XXX:\n",
    "                notify(H, check) #\n",
    "                wait_for_hero_turn()\n",
    "                if check_new_cards():\n",
    "                    notify(A, check_river) #\n",
    "                    next_round()\n",
    "                else:\n",
    "                    pot = read_pot()\n",
    "                    notify(A, raised) #\n",
    "                    # hero may call\n",
    "            else if pot > XXX:\n",
    "                notify(H, bet) #\n",
    "                # adv may call\n",
    "        else check_cards_folded():"
   ]
  }
 ]
}